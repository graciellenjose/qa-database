{
 "cells": [
  {
   "cell_type": "code",
   "execution_count": 3,
   "id": "b98b4243",
   "metadata": {},
   "outputs": [],
   "source": [
    "!pip3 install --upgrade --quiet langchain langchain-openai langchain-community chromadb\n",
    "!pip3 install --upgrade --quiet streamlit pandas"
   ]
  },
  {
   "cell_type": "code",
   "execution_count": 6,
   "id": "203cad96",
   "metadata": {},
   "outputs": [],
   "source": [
    "#Importação de documento pdf, vetorização, conexão com a OpenAI\n",
    "import streamlit as st\n",
    "from langchain.vectorstores import Chroma, FAISS\n",
    "from langchain.embeddings.openai import OpenAIEmbeddings\n",
    "from langchain.prompts import PromptTemplate\n",
    "from langchain.chat_models import ChatOpenAI\n",
    "from langchain.chains import LLMChain\n",
    "\n",
    "#Base de perguntas\n",
    "from langchain.chains.question_answering import load_qa_chain\n",
    "from langchain.chat_models import ChatOpenAI\n",
    "import pandas as pd"
   ]
  }
 ],
 "metadata": {
  "kernelspec": {
   "display_name": "myenv",
   "language": "python",
   "name": "python3"
  },
  "language_info": {
   "codemirror_mode": {
    "name": "ipython",
    "version": 3
   },
   "file_extension": ".py",
   "mimetype": "text/x-python",
   "name": "python",
   "nbconvert_exporter": "python",
   "pygments_lexer": "ipython3",
   "version": "3.13.3"
  }
 },
 "nbformat": 4,
 "nbformat_minor": 5
}
